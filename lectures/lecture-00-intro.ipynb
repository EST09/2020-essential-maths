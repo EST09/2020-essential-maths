{
 "cells": [
  {
   "cell_type": "markdown",
   "metadata": {
    "hideCode": false,
    "hidePrompt": false,
    "slideshow": {
     "slide_type": "slide"
    }
   },
   "source": [
    "# Lecture 0\n",
    "\n",
    "# Essential Mathematics 2020\n",
    "\n",
    "### Fergus Cooper, Beth Dingley, Elliot Howard-Spink\n",
    "#### and many before us"
   ]
  },
  {
   "cell_type": "code",
   "execution_count": null,
   "metadata": {
    "hideCode": false,
    "hidePrompt": false,
    "slideshow": {
     "slide_type": "skip"
    }
   },
   "outputs": [],
   "source": [
    "import numpy as np\n",
    "\n",
    "##################################################\n",
    "##### Matplotlib boilerplate for consistency #####\n",
    "##################################################\n",
    "from ipywidgets import interact\n",
    "from ipywidgets import FloatSlider\n",
    "from matplotlib import pyplot as plt\n",
    "\n",
    "%matplotlib inline\n",
    "\n",
    "from IPython.display import set_matplotlib_formats\n",
    "set_matplotlib_formats('svg')\n",
    "\n",
    "global_fig_width = 10\n",
    "global_fig_height = global_fig_width / 1.61803399\n",
    "font_size = 12\n",
    "\n",
    "plt.rcParams['axes.axisbelow'] = True\n",
    "plt.rcParams['axes.edgecolor'] = '0.8'\n",
    "plt.rcParams['axes.grid'] = True\n",
    "plt.rcParams['axes.labelpad'] = 8\n",
    "plt.rcParams['axes.linewidth'] = 2\n",
    "plt.rcParams['axes.titlepad'] = 16.0\n",
    "plt.rcParams['axes.titlesize'] = font_size * 1.4\n",
    "plt.rcParams['figure.figsize'] = (global_fig_width, global_fig_height)\n",
    "plt.rcParams['font.sans-serif'] = ['Computer Modern Sans Serif', 'DejaVu Sans', 'sans-serif']\n",
    "plt.rcParams['font.size'] = font_size\n",
    "plt.rcParams['grid.color'] = '0.8'\n",
    "plt.rcParams['grid.linestyle'] = 'dashed'\n",
    "plt.rcParams['grid.linewidth'] = 2\n",
    "plt.rcParams['lines.dash_capstyle'] = 'round'\n",
    "plt.rcParams['lines.dashed_pattern'] = [1, 4]\n",
    "plt.rcParams['xtick.labelsize'] = font_size\n",
    "plt.rcParams['xtick.major.pad'] = 4\n",
    "plt.rcParams['xtick.major.size'] = 0\n",
    "plt.rcParams['ytick.labelsize'] = font_size\n",
    "plt.rcParams['ytick.major.pad'] = 4\n",
    "plt.rcParams['ytick.major.size'] = 0\n",
    "##################################################"
   ]
  },
  {
   "cell_type": "code",
   "execution_count": null,
   "metadata": {
    "slideshow": {
     "slide_type": "skip"
    }
   },
   "outputs": [],
   "source": [
    "%%HTML\n",
    "<style>\n",
    "tr {\n",
    "    font-size: 20pt\n",
    "}\n",
    "\n",
    "td img {\n",
    "#     width: 300px;\n",
    "    height: 400px\n",
    "}\n",
    "</style>"
   ]
  },
  {
   "cell_type": "markdown",
   "metadata": {
    "hideCode": false,
    "hidePrompt": false,
    "slideshow": {
     "slide_type": "subslide"
    }
   },
   "source": [
    "# Essential mathematics 2019\n",
    "\n",
    "&nbsp;\n",
    "\n",
    "&nbsp;\n",
    "\n",
    "\n",
    "\n",
    "|  Martin Robinson                    | Fergus Cooper                     | Chon Lei                     |\n",
    "|-------------------------------------|-----------------------------------|------------------------------|\n",
    "|![](assets/photo_martin_robinson.jpg)|![](assets/photo_fergus_cooper.jpg)|![](assets/photo_chon_lei.jpg)|\n",
    "\n",
    "&nbsp;\n",
    "\n",
    "&nbsp;\n",
    "\n",
    "\n",
    "Thanks, too, to the many other contributors and demonstrators who make this course possible."
   ]
  },
  {
   "cell_type": "markdown",
   "metadata": {
    "slideshow": {
     "slide_type": "slide"
    }
   },
   "source": [
    "# Why Mathematics?\n",
    "\n",
    "Data analysis\n",
    "\n",
    "- Interpretation and inference\n",
    "- Identify patterns, trends, relationships\n",
    "- Deal robustly with uncertainty and variation"
   ]
  },
  {
   "cell_type": "markdown",
   "metadata": {
    "slideshow": {
     "slide_type": "subslide"
    }
   },
   "source": [
    "![](assets/linear_regression.png)"
   ]
  },
  {
   "cell_type": "markdown",
   "metadata": {
    "slideshow": {
     "slide_type": "subslide"
    }
   },
   "source": [
    "# Why Mathematics?\n",
    "\n",
    "Describe the behaviour of biological systems\n",
    "\n",
    "- Remove ambiguity, explicit assumptions\n",
    "- Quantitative hypotheses\n",
    "- Make predictions, through simulation and analysis\n",
    "- \"If I make this intervention, I expect to see that change\"\n",
    "- Explain *why* something happens"
   ]
  },
  {
   "cell_type": "markdown",
   "metadata": {
    "slideshow": {
     "slide_type": "subslide"
    }
   },
   "source": [
    "![](assets/genetic_oscillator.jpg)"
   ]
  },
  {
   "cell_type": "markdown",
   "metadata": {
    "slideshow": {
     "slide_type": "subslide"
    }
   },
   "source": [
    "# Why Mathematics?\n",
    "\n",
    "Vital for **dynamic** and **nonlinear** systems\n",
    "\n",
    "- Simple intuition breaks down\n",
    "- Most of biology is dynamic and nonlinear!"
   ]
  },
  {
   "cell_type": "markdown",
   "metadata": {
    "slideshow": {
     "slide_type": "subslide"
    }
   },
   "source": [
    "![](assets/non-linear.jpg)"
   ]
  },
  {
   "cell_type": "markdown",
   "metadata": {
    "slideshow": {
     "slide_type": "slide"
    }
   },
   "source": [
    "# Course aims\n",
    "\n",
    "- Develop confidence in your mathematical abilities\n",
    "    - Extensive practice\n",
    "- Become able to communicate with mathematical collaborators\n",
    "- Build solid foundational skills in core topics\n",
    "- Gain necessary background for other DTC courses\n",
    "    - Scientific Computing, Bioinformatics, Data Analysis, Statistics, ...\n"
   ]
  },
  {
   "cell_type": "markdown",
   "metadata": {
    "slideshow": {
     "slide_type": "slide"
    }
   },
   "source": [
    "# Topics covered\n",
    "\n",
    "- Basic algebra, vectors, graphs\n",
    "- Complex numbers \n",
    "- Calculus: Differentiation & Integration\n",
    "- Simple ordinary differential equations\n",
    "- Matrices, and solving linear equations\n",
    "- Probability\n",
    "- Use of Python"
   ]
  },
  {
   "cell_type": "markdown",
   "metadata": {
    "slideshow": {
     "slide_type": "slide"
    }
   },
   "source": [
    "# Logistics\n",
    "\n",
    "Lectures\n",
    "\n",
    "- Mornings: 9:30-10:30 (most days) or 10:15-11:15\n",
    "- Afternoons: 14:00-15:00\n",
    "\n",
    "Practical sessions on 4th floor\n",
    "\n",
    "- All other times between 10:30 - 17:30 (except lunch!)"
   ]
  },
  {
   "cell_type": "markdown",
   "metadata": {
    "slideshow": {
     "slide_type": "slide"
    }
   },
   "source": [
    "# Logistics\n",
    "\n",
    "Lecture slides are Jupyter notebooks turned into presentations using the RISE plugin.\n",
    "All the software necessary to view these presentations is already installed on the DTC computers:\n",
    "\n",
    "- Download lecture files from Canvas, e.g. `lecture-03-differentiation-01.ipynb`\n",
    "- Move them to a directory, e.g. `~/EssentialMaths/`\n",
    "\n",
    "Open a terminal and type:\n",
    "```\n",
    "cd ~/EssentialMaths\n",
    "/usr/local/anaconda3/bin/jupyter notebook\n",
    "```\n",
    "\n",
    "Select the lecture you want to view, then:\n",
    "\n",
    "- `Cell -> Run All`\n",
    "- `Enter/Exit RISE Slideshow`\n"
   ]
  },
  {
   "cell_type": "markdown",
   "metadata": {
    "slideshow": {
     "slide_type": "slide"
    }
   },
   "source": [
    "# Lectures\n",
    "\n",
    "- The lectures introduce topics, explain background, and go through example \n",
    "  problems\n",
    "- Attendance is recommended but not compulsory\n",
    "- Interaction and questions are welcomed"
   ]
  },
  {
   "cell_type": "markdown",
   "metadata": {
    "slideshow": {
     "slide_type": "slide"
    }
   },
   "source": [
    "# Exercises\n",
    "\n",
    "Most exercises can be solved using pen & paper\n",
    "\n",
    "- More difficult questions marked with \"(Extended)\", these are aimed at people with more maths experience, but anyone is free to attempt them.\n",
    "\n",
    "- You may wish to use Python instead of pen & paper, or simply to verify your answers\n",
    "    - see introductory sheet on Canvas\n",
    "    - we will cover some Python concepts, and some \"(Extended)\" questions require Python"
   ]
  },
  {
   "cell_type": "markdown",
   "metadata": {
    "slideshow": {
     "slide_type": "slide"
    }
   },
   "source": [
    "# Exercise strategy\n",
    "\n",
    "- Don't panic if you don't complete every question!\n",
    "- Focus on understanding the concepts\n",
    "- Consolidation time on Wednesday afternoons\n",
    "\n",
    "Do help your peers, as well as exploiting the demonstrators"
   ]
  },
  {
   "cell_type": "markdown",
   "metadata": {
    "slideshow": {
     "slide_type": "slide"
    }
   },
   "source": [
    "# Module assessment\n",
    "\n",
    "- Each problem sheet has 1-2 questions marked \"(Assessed)\"\n",
    "- Write your answers to these up and hand them in to a demonstrator by the following day\n",
    "    - Feel free to write them up using pen & paper, or a Python notebook\n",
    "- These will be marked on accuracy, demonstrated knowledge (i.e. working) and neatness to give a final report & grade\n",
    "- If you skip practical sessions you might harm your grade, so let me know if \n",
    "  you're ill!"
   ]
  },
  {
   "cell_type": "markdown",
   "metadata": {
    "slideshow": {
     "slide_type": "slide"
    }
   },
   "source": [
    "# Reference materials\n",
    "\n",
    "- Foundation Maths, Croft & Davison\n",
    "- Mathematics for Biological Scientists, Aitken, Broadhurst & Hladky\n",
    "- Any A-level maths resources\n",
    "- Other mathematical textbooks in the DTC library will be useful more for \n",
    "  advanced topics"
   ]
  }
 ],
 "metadata": {
  "kernelspec": {
   "display_name": "Python 3",
   "language": "python",
   "name": "python3"
  },
  "language_info": {
   "codemirror_mode": {
    "name": "ipython",
    "version": 3
   },
   "file_extension": ".py",
   "mimetype": "text/x-python",
   "name": "python",
   "nbconvert_exporter": "python",
   "pygments_lexer": "ipython3",
   "version": "3.8.2"
  }
 },
 "nbformat": 4,
 "nbformat_minor": 2
}
